{
 "cells": [
  {
   "cell_type": "code",
   "execution_count": 1,
   "id": "dc33da5c-f4ea-4f96-bd5f-31a4e1aa75ac",
   "metadata": {},
   "outputs": [],
   "source": [
    "import os \n",
    "import numpy as np\n",
    "import geopandas as gpd\n",
    "import random\n",
    "import json\n",
    "import datetime\n",
    "\n",
    "from typing import Union, Tuple \n",
    "\n",
    "import joblib\n",
    "\n",
    "import preprocessing as pp\n",
    "import gee_data"
   ]
  },
  {
   "cell_type": "code",
   "execution_count": 2,
   "id": "c8cf30df-ba67-4b8c-b34b-b755d388e7b0",
   "metadata": {},
   "outputs": [],
   "source": [
    "def __main__():\n",
    "    start_date = '2022-01-01'  # Date de début\n",
    "    end_date = '2022-12-31'    # Date de fin\n",
    "    directory = \"shapefile_prediction\"\n",
    "    filename = \"models/RandomForestPrairie.joblib\"\n",
    "\n",
    "    shapefile = gpd.read_file(f'{directory}/Parcelle.shp')\n",
    "    \n",
    "    date_series, ndvi_series = gee_data.get_timeSeries_ndvi_evi(shapefile, start_date, end_date )\n",
    "\n",
    "    month_ndvi = pp.month_ndvi(date_series, ndvi_series)\n",
    "    ndvi = pp.correction(month_ndvi)\n",
    "    \n",
    "    rfc = joblib.load(filename)\n",
    "    \n",
    "    prediction = rfc.predict([ndvi])\n",
    "    \n",
    "    if prediction[0] == 1:\n",
    "        print(\"C'est une Prairie\")\n",
    "    else:\n",
    "        print(\"Ce n'est pas une Prairie\")"
   ]
  },
  {
   "cell_type": "code",
   "execution_count": 3,
   "id": "fd60fee0-f0ee-4e6e-bab2-c106fc973132",
   "metadata": {},
   "outputs": [
    {
     "name": "stdout",
     "output_type": "stream",
     "text": [
      "Ce n'est pas une Prairie\n"
     ]
    }
   ],
   "source": [
    "__main__()"
   ]
  },
  {
   "cell_type": "code",
   "execution_count": null,
   "id": "b8fcd7de-c3d7-44ca-a42d-3a249aa58a53",
   "metadata": {},
   "outputs": [],
   "source": []
  }
 ],
 "metadata": {
  "kernelspec": {
   "display_name": "Python 3 (ipykernel)",
   "language": "python",
   "name": "python3"
  },
  "language_info": {
   "codemirror_mode": {
    "name": "ipython",
    "version": 3
   },
   "file_extension": ".py",
   "mimetype": "text/x-python",
   "name": "python",
   "nbconvert_exporter": "python",
   "pygments_lexer": "ipython3",
   "version": "3.12.3"
  }
 },
 "nbformat": 4,
 "nbformat_minor": 5
}
