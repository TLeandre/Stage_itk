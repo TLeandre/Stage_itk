{
 "cells": [
  {
   "cell_type": "code",
   "execution_count": null,
   "id": "b7552566-b077-4b17-bb86-b4cd18bc6614",
   "metadata": {},
   "outputs": [],
   "source": [
    "import json\n",
    "import pandas as pd\n",
    "import numpy as np\n",
    "\n",
    "\n",
    "from sklearn.metrics import accuracy_score, confusion_matrix, classification_report, f1_score, precision_score, recall_score\n",
    "from sklearn.model_selection import train_test_split\n",
    "\n",
    "from sklearn.ensemble import RandomForestClassifier \n",
    "\n",
    "from typing import Union, Tuple \n",
    "\n",
    "import joblib\n",
    "\n",
    "import preprocessing as pp"
   ]
  },
  {
   "cell_type": "code",
   "execution_count": null,
   "id": "00eaad16-e49a-45a4-b9b6-85e7fe94de22",
   "metadata": {},
   "outputs": [],
   "source": [
    "def get_data(path: str) -> Union[list, list, list, list]:\n",
    "    \"\"\"Retrieve data from a json and split into two datasets \n",
    "\n",
    "    Args:\n",
    "        path (str): json path \n",
    "\n",
    "    Returns:\n",
    "        Union[list, list, list, list]: Train and Test dataset \n",
    "    \"\"\"\n",
    "    with open(f\"{path}\", 'r') as f:\n",
    "        parcelles = json.load(f)\n",
    "        f.close()\n",
    "\n",
    "    X = []\n",
    "    y = []\n",
    "    for i in range(len(parcelles)):\n",
    "        try:\n",
    "            y.append(int(parcelles[str(i)]['prairie']))\n",
    "            X.append(pp.correction(pp.month_ndvi(parcelles[str(i)]['data'])[0]))#+ correction(month_ndvi(parcelles[str(i)]['data'])[1])[2]\n",
    "        except Exception:\n",
    "            pass\n",
    "            \n",
    "    X_train, X_test = train_test_split(X, test_size=0.3, random_state=42)\n",
    "    y_train, y_test = train_test_split(y, test_size=0.3, random_state=42)\n",
    "\n",
    "    return X_train, X_test, y_train, y_test"
   ]
  },
  {
   "cell_type": "code",
   "execution_count": null,
   "id": "896148e9-8afc-40af-bec7-cc44e375456c",
   "metadata": {},
   "outputs": [],
   "source": [
    "def print_score(clf: RandomForestClassifier, X_test: list, y_test: list) -> None:\n",
    "    \"\"\"Display training score\n",
    "\n",
    "    Args:\n",
    "        clf (RandomForestClassifier): classifier \n",
    "        X_test (list): X test dataset \n",
    "        y_test (list): y test dataset \n",
    "    \"\"\"\n",
    "    pred = clf.predict(X_test)\n",
    "    clf_report = pd.DataFrame(classification_report(y_test, pred, output_dict=True))\n",
    "    print(\"Test Result:\\n================================================\")        \n",
    "    print(f\"Accuracy Score: {accuracy_score(y_test, pred) * 100:.2f}%\")\n",
    "    print(\"_______________________________________________\")\n",
    "    print(f\"CLASSIFICATION REPORT:\\n{clf_report}\")\n",
    "    print(\"_______________________________________________\")\n",
    "    print(f\"Confusion Matrix: \\n {confusion_matrix(y_test, pred)}\\n\")"
   ]
  },
  {
   "cell_type": "code",
   "execution_count": null,
   "id": "31244b0f-698f-4d81-a4fa-1537979e1029",
   "metadata": {},
   "outputs": [],
   "source": [
    "def training(X_train: list, X_test: list, y_train: list, y_test: list) -> RandomForestClassifier:\n",
    "    \"\"\"classifier training \n",
    "\n",
    "    Args:\n",
    "        X_train (list): X train dataset\n",
    "        X_test (list): X test dataset\n",
    "        y_train (list): y train dataset\n",
    "        y_test (list): y test dataset\n",
    "\n",
    "    Returns:\n",
    "        RandomForestClassifier: classifier\n",
    "    \"\"\"\n",
    "    rfc = RandomForestClassifier()\n",
    "    rfc.fit(X_train, y_train)\n",
    "    \n",
    "    print_score(rfc, X_test, y_test)\n",
    "    \n",
    "    return rfc"
   ]
  },
  {
   "cell_type": "code",
   "execution_count": 27,
   "id": "32c747fc-100e-46c9-93ed-11329f13a429",
   "metadata": {},
   "outputs": [],
   "source": [
    "def __main__():\n",
    "    path = \"C:/Users/ltuesta/Desktop/Files/Dev/local_python/data/data_region.json\"\n",
    "    X_train, X_test, y_train, y_test = get_data(path)\n",
    "\n",
    "    rfc = training(X_train, X_test, y_train, y_test)\n",
    "\n",
    "    # save model\n",
    "    filename = \"models/RandomForestPrairie.joblib\"\n",
    "    joblib.dump(rfc, filename)"
   ]
  },
  {
   "cell_type": "code",
   "execution_count": null,
   "id": "1d078b39-7ca6-428c-bdbe-18d32ec47348",
   "metadata": {},
   "outputs": [],
   "source": [
    "__main__()"
   ]
  },
  {
   "cell_type": "code",
   "execution_count": null,
   "id": "9ea12821-90b3-4965-a3ac-3053c6401c47",
   "metadata": {},
   "outputs": [],
   "source": []
  },
  {
   "cell_type": "code",
   "execution_count": null,
   "id": "2cf4f86e-37f4-4b04-aa05-0286362f08dd",
   "metadata": {},
   "outputs": [],
   "source": []
  }
 ],
 "metadata": {
  "kernelspec": {
   "display_name": "Python 3 (ipykernel)",
   "language": "python",
   "name": "python3"
  },
  "language_info": {
   "codemirror_mode": {
    "name": "ipython",
    "version": 3
   },
   "file_extension": ".py",
   "mimetype": "text/x-python",
   "name": "python",
   "nbconvert_exporter": "python",
   "pygments_lexer": "ipython3",
   "version": "3.12.3"
  }
 },
 "nbformat": 4,
 "nbformat_minor": 5
}
