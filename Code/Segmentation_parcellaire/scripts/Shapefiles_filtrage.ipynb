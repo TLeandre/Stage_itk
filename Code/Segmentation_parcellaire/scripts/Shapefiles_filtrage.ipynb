{
 "cells": [
  {
   "cell_type": "code",
   "execution_count": 1,
   "id": "70161159-2ed8-4a0d-b207-c87eb8dfe679",
   "metadata": {},
   "outputs": [],
   "source": [
    "import os\n",
    "\n",
    "import rasterio\n",
    "import pyproj \n",
    "\n",
    "import numpy as np\n",
    "import pandas as pd\n",
    "import seaborn as sns\n",
    "import geopandas as gpd\n",
    "import matplotlib.pyplot as plt\n",
    "\n",
    "from shapely.geometry import box, Polygon"
   ]
  },
  {
   "cell_type": "code",
   "execution_count": 2,
   "id": "dae8a628-0072-423f-9820-33e6a9706fae",
   "metadata": {},
   "outputs": [],
   "source": [
    "def get_filenames(directory: str) -> list:\n",
    "    \"\"\"\n",
    "    Recovers shapefile names \n",
    "    Args:\n",
    "        directory (str): path to folder containing shapefiles\n",
    "\n",
    "    Returns:\n",
    "        (list(str)): shapefile name\n",
    "    \"\"\"\n",
    "    filenames = []\n",
    "    for filename in os.listdir(directory):\n",
    "        if os.path.isfile(os.path.join(directory, filename)) and filename.endswith('.shp'):\n",
    "            filenames.append(filename)\n",
    "         \n",
    "    return filenames"
   ]
  },
  {
   "cell_type": "code",
   "execution_count": 3,
   "id": "6719cf0e-89d3-4193-9943-cc22c79194fb",
   "metadata": {},
   "outputs": [],
   "source": [
    "def filter_shapefile(shapefile_ori: gpd.geodataframe.GeoDataFrame) -> gpd.geodataframe.GeoDataFrame:\n",
    "    \"\"\"\n",
    "    Removes “frozen” and “miscellaneous” parcels\n",
    "    Args:\n",
    "        shapefile_ori (gpd.geodataframe.GeoDataFrame): original shapefile \n",
    "\n",
    "    Returns:\n",
    "        (gpd.geodataframe.GeoDataFrame): filtered shapefile \n",
    "    \"\"\"\n",
    "\n",
    "    shapefile = shapefile_ori.copy()\n",
    "    \n",
    "    filtered_shapefile = shapefile.query(\"CODE_GROUP != '28' and CODE_GROUP != '11'\")\n",
    "    filtered_shapefile.reset_index().drop('index', axis=1)\n",
    "\n",
    "    return filtered_shapefile"
   ]
  },
  {
   "cell_type": "code",
   "execution_count": 10,
   "id": "866c8b9b-0e80-464f-953f-cd867ef9701c",
   "metadata": {},
   "outputs": [],
   "source": [
    "def __main__():\n",
    "    \"\"\"\n",
    "    Filters all shapefiles in the “directory” folder and saves them \n",
    "    \"\"\"\n",
    "\n",
    "    #to_modify\n",
    "    #chemin vers les shapefiles de références\n",
    "    directory = \"../data/shapefiles/\"\n",
    "\n",
    "    filenames = get_filenames(directory)\n",
    "    \n",
    "    for filename in filenames:\n",
    "        print(filename)\n",
    "        shapefile_ori = gpd.read_file(f'../data/shapefiles/{filename}')\n",
    "        \n",
    "        filtered_shapefile = filter_shapefile(shapefile_ori)\n",
    "\n",
    "        filtered_shapefile.to_file(f'../data/shapefiles_filtered/{filename}')"
   ]
  },
  {
   "cell_type": "code",
   "execution_count": null,
   "id": "a1d7b7c0-ddd4-498d-b19d-0e25f3d43dab",
   "metadata": {},
   "outputs": [],
   "source": [
    "__main__()"
   ]
  },
  {
   "cell_type": "code",
   "execution_count": null,
   "id": "eae8857e-0364-42ca-b25e-99b3bcabc6ad",
   "metadata": {},
   "outputs": [],
   "source": []
  }
 ],
 "metadata": {
  "kernelspec": {
   "display_name": "Python 3 (ipykernel)",
   "language": "python",
   "name": "python3"
  },
  "language_info": {
   "codemirror_mode": {
    "name": "ipython",
    "version": 3
   },
   "file_extension": ".py",
   "mimetype": "text/x-python",
   "name": "python",
   "nbconvert_exporter": "python",
   "pygments_lexer": "ipython3",
   "version": "3.12.3"
  }
 },
 "nbformat": 4,
 "nbformat_minor": 5
}
